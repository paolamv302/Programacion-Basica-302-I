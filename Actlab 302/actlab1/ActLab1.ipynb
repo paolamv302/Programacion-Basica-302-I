{
  "nbformat": 4,
  "nbformat_minor": 0,
  "metadata": {
    "colab": {
      "provenance": [],
      "authorship_tag": "ABX9TyPkVarMbX9pqaAiGHAtAy7S",
      "include_colab_link": true
    },
    "kernelspec": {
      "name": "python3",
      "display_name": "Python 3"
    },
    "language_info": {
      "name": "python"
    }
  },
  "cells": [
    {
      "cell_type": "markdown",
      "metadata": {
        "id": "view-in-github",
        "colab_type": "text"
      },
      "source": [
        "<a href=\"https://colab.research.google.com/github/paolamv302/Programacion-Basica-302-I/blob/main/Actlab%20302/actlab1/ActLab1.ipynb\" target=\"_parent\"><img src=\"https://colab.research.google.com/assets/colab-badge.svg\" alt=\"Open In Colab\"/></a>"
      ]
    },
    {
      "cell_type": "markdown",
      "source": [
        "PB302_1.CPP Programa para Bienvenida"
      ],
      "metadata": {
        "id": "SEMo8TRPmQUW"
      }
    },
    {
      "cell_type": "markdown",
      "source": [
        "Actividad de Laboratorio 1 Impreción de Mensajes"
      ],
      "metadata": {
        "id": "sTH56YqkxjIM"
      }
    },
    {
      "cell_type": "code",
      "execution_count": null,
      "metadata": {
        "colab": {
          "base_uri": "https://localhost:8080/"
        },
        "id": "BdmhR6cjljzt",
        "outputId": "b3a7db48-1e6d-44c7-f245-45f5207f7946"
      },
      "outputs": [
        {
          "output_type": "stream",
          "name": "stdout",
          "text": [
            "Overwriting PB302_1.cpp\n"
          ]
        }
      ],
      "source": [
        "%%writefile PB302_1.cpp\n",
        "//Programa para iprimir mensaje de bienvenida\n",
        "//Creado por Paola Mendoza Villalobos\n",
        "//Fecha:15/septiembre/2025\n",
        "//PB302_1.cpp\n",
        "#include <iostream>\n",
        "using namespace std;\n",
        "int main()\n",
        "{\n",
        "  cout<<\"Bienvenidos a Programación Basica en C++\\n\";\n",
        "  cout<<\"Gracias por programar en clase\";\n",
        "  return 0;\n",
        "}\n"
      ]
    },
    {
      "cell_type": "code",
      "source": [
        "!g++ PB302_1.cpp -o PB302_1\n",
        "!./PB302_1"
      ],
      "metadata": {
        "colab": {
          "base_uri": "https://localhost:8080/"
        },
        "id": "h0bYfJ6HpyQE",
        "outputId": "b68bddb2-05e4-45ae-b9c8-6d0c8d7c55e9"
      },
      "execution_count": null,
      "outputs": [
        {
          "output_type": "stream",
          "name": "stdout",
          "text": [
            "Bienvenidos a Programación Basica en C++\n",
            "Gracias por programar en clase"
          ]
        }
      ]
    },
    {
      "cell_type": "markdown",
      "source": [
        "PB302_2.CPP Programa para imprimir datos personales"
      ],
      "metadata": {
        "id": "MdQCV_JPq1Tg"
      }
    },
    {
      "cell_type": "code",
      "execution_count": 31,
      "metadata": {
        "colab": {
          "base_uri": "https://localhost:8080/"
        },
        "outputId": "b7c05c33-c89e-4490-86d4-9ab217872e73",
        "id": "_HWEbdKmrQDm"
      },
      "outputs": [
        {
          "output_type": "stream",
          "name": "stdout",
          "text": [
            "Overwriting PB302_2.cpp\n"
          ]
        }
      ],
      "source": [
        "%%writefile PB302_2.cpp\n",
        "//Programa para Mostrar datos personales\n",
        "//Creado por Paola Mendoza Villalobos\n",
        "//Fecha:18/septiembre/2025\n",
        "//PB302_2.CPP\n",
        "#include <iostream>\n",
        "using namespace std;\n",
        "int main()\n",
        "{\n",
        "  char nombre[10]=\"Paola\";\n",
        "  char paterno[10]=\"Mendoza\";\n",
        "  char materno[11]=\"Villalobos\";\n",
        "  cout<<\"Nombre completo es:\\n\";\n",
        "  int edad=16;\n",
        "  char direccion[40]=\"Priv.bellavista 7515\";\n",
        "  char fechanac[20]=\"06/02/2009\";\n",
        "  char ciudadnac[40]=\"JUAREZ\";\n",
        "  cout<<\"Nombre completo es:\\n\";\n",
        "  cout<<nombre<<\"\\n\";\n",
        "  cout<<paterno<<\"\\n\";\n",
        "  cout<<materno<<\"\\n\";\n",
        "  cout<< edad<<\"\\n\";\n",
        "  cout<< direccion<<\"\\n\";\n",
        "  cout<<fechanac<<\"\\n\";\n",
        "  cout<<ciudadnac<<\"\\n\";\n",
        "  return 0;\n",
        "}\n"
      ]
    },
    {
      "cell_type": "code",
      "source": [
        "!g++ PB302_2.cpp -o PB302_2.exe\n",
        "!./PB302_2.exe"
      ],
      "metadata": {
        "colab": {
          "base_uri": "https://localhost:8080/"
        },
        "id": "OoHseSpWwmTM",
        "outputId": "803be316-d7b1-4bf7-ecfd-3fa6b07c11e9"
      },
      "execution_count": 32,
      "outputs": [
        {
          "output_type": "stream",
          "name": "stdout",
          "text": [
            "Nombre completo es:\n",
            "Nombre completo es:\n",
            "Paola\n",
            "Mendoza\n",
            "Villalobos\n",
            "16\n",
            "Priv.bellavista 7515\n",
            "06/02/2009\n",
            "JUAREZ\n"
          ]
        }
      ]
    }
  ]
}